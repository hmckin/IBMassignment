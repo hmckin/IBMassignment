{
  "metadata": {
    "language_info": {
      "codemirror_mode": {
        "name": "python",
        "version": 3
      },
      "file_extension": ".py",
      "mimetype": "text/x-python",
      "name": "python",
      "nbconvert_exporter": "python",
      "pygments_lexer": "ipython3",
      "version": "3.8"
    },
    "kernelspec": {
      "name": "python",
      "display_name": "Python (Pyodide)",
      "language": "python"
    }
  },
  "nbformat_minor": 4,
  "nbformat": 4,
  "cells": [
    {
      "cell_type": "markdown",
      "source": "# My Jupyter Notebook on IBM Watson Studio",
      "metadata": {}
    },
    {
      "cell_type": "markdown",
      "source": "**Harry McKinney**\n**Data Scientist in Engineering Consulting**",
      "metadata": {}
    },
    {
      "cell_type": "markdown",
      "source": "*I am interested in data science to broaden my skillset in mechanical engineering. I loved programming during university but wasn't given many opportunities to explore it's capabilities.*",
      "metadata": {}
    },
    {
      "cell_type": "markdown",
      "source": "### This line of code thanks you for reading my notebook!",
      "metadata": {}
    },
    {
      "cell_type": "code",
      "source": "print('I hope you enjoyed my notebook!')",
      "metadata": {
        "trusted": true
      },
      "execution_count": 4,
      "outputs": [
        {
          "name": "stdout",
          "text": "I hope you enjoyed my notebook!\n",
          "output_type": "stream"
        }
      ]
    },
    {
      "cell_type": "markdown",
      "source": "- This is a \n    - bulleted list \n    \n***\n\n1. With the Horizontal rule above,\n    1. and this numbered list\n1. I've done all 3 tasks.\n\n",
      "metadata": {}
    }
  ]
}